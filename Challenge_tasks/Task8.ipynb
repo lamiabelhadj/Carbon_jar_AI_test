{
 "cells": [
  {
   "cell_type": "markdown",
   "id": "ca2532d1",
   "metadata": {},
   "source": [
    "**8. NLP Pipeline for Regulatory Document Parsing**\n"
   ]
  },
  {
   "cell_type": "markdown",
   "id": "3afe8cff",
   "metadata": {},
   "source": [
    " Step 1: Regulatory Sample Text"
   ]
  },
  {
   "cell_type": "code",
   "execution_count": 7,
   "id": "c5d11c5e",
   "metadata": {},
   "outputs": [],
   "source": [
    "regulatory_text = \"\"\"\n",
    "Carbon Jar Inc. must report its Scope 1 emissions by March 31, 2026.\n",
    "The limit for Sector B in Egypt is 50,000 tCO2e.\n",
    "\"\"\"\n"
   ]
  },
  {
   "cell_type": "markdown",
   "id": "b3e4f593",
   "metadata": {},
   "source": [
    "Step 2: Sample Regulatory Text (Given)\n"
   ]
  },
  {
   "cell_type": "code",
   "execution_count": 2,
   "id": "b42f3b23",
   "metadata": {},
   "outputs": [],
   "source": [
    "regulatory_text = \"\"\"\n",
    "Carbon Jar Inc. must report its Scope 1 emissions by March 31, 2026.\n",
    "The limit for Sector B in Egypt is 50,000 tCO2e.\n",
    "\"\"\"\n"
   ]
  },
  {
   "cell_type": "markdown",
   "id": "ace391e8",
   "metadata": {},
   "source": [
    " Step 2: Simulated NER Pipeline (Offline Mode)"
   ]
  },
  {
   "cell_type": "markdown",
   "id": "62924b81",
   "metadata": {},
   "source": [
    "Note : Since I could not load dslim/bert-base-NER from Hugging Face, I simulated the output with pattern-based extraction and a mock result dictionary."
   ]
  },
  {
   "cell_type": "code",
   "execution_count": 10,
   "id": "938e668c",
   "metadata": {},
   "outputs": [],
   "source": [
    "import re\n",
    "\n",
    "def extract_compliance_rules(text):\n",
    "    \"\"\"\n",
    "    Extracts ORG, DATE, and LIMITS from regulatory text using regex and simulated logic.\n",
    "    \"\"\"\n",
    "    results = {\n",
    "        \"ORG\": [],\n",
    "        \"DATE\": [],\n",
    "        \"LIMITS\": []\n",
    "    }\n",
    "\n",
    "    # Simulate ORG extractio,\n",
    "    org_matches = re.findall(r\"[A-Z][a-zA-Z]+(?:\\s[A-Z][a-zA-Z]+)*\\sInc\\.?\", text)\n",
    "    results[\"ORG\"].extend(org_matches)\n",
    "\n",
    "    # Extract dates\n",
    "    date_matches = re.findall(r\"[A-Z][a-z]+ \\d{1,2}, \\d{4}\", text)\n",
    "    results[\"DATE\"].extend(date_matches)\n",
    "\n",
    "    # Extract emission limits like \"50,000 tCO2e\"\n",
    "    limit_matches = re.findall(r\"\\b\\d{1,3}(?:,\\d{3})*\\s*tCO2e\\b\", text)\n",
    "    results[\"LIMITS\"].extend(limit_matches)\n",
    "\n",
    "    return results\n"
   ]
  },
  {
   "cell_type": "markdown",
   "id": "c09a05ac",
   "metadata": {},
   "source": [
    "Step 3: Run the Extractor\n"
   ]
  },
  {
   "cell_type": "code",
   "execution_count": 11,
   "id": "f6950ddf",
   "metadata": {},
   "outputs": [
    {
     "name": "stdout",
     "output_type": "stream",
     "text": [
      "Extracted Compliance Info:\n",
      "ORG: ['Carbon Jar Inc.']\n",
      "DATE: ['March 31, 2026']\n",
      "LIMITS: ['50,000 tCO2e']\n"
     ]
    }
   ],
   "source": [
    "results = extract_compliance_rules(regulatory_text)\n",
    "print(\"Extracted Compliance Info:\")\n",
    "for key, value in results.items():\n",
    "    print(f\"{key}: {value}\")\n"
   ]
  },
  {
   "cell_type": "markdown",
   "id": "e59407a1",
   "metadata": {},
   "source": [
    "How to Fine-Tune for Custom Entities (e.g., EMISSION_LIMIT)\n",
    "1 - Create labeled dataset in CoNLL format with tags like:\n",
    "\n",
    "The    O\n",
    "\n",
    "limit  O\n",
    "\n",
    "is     O\n",
    "\n",
    "50,000 B-LIMIT\n",
    "\n",
    "tCO2e  I-LIMIT\n",
    "\n",
    "Fine-tune a model using Hugging Face Trainer and token-classification task.\n",
    "\n",
    "Replace dslim/bert-base-NER with your fine-tuned model checkpoint.\n",
    "\n"
   ]
  },
  {
   "cell_type": "markdown",
   "id": "281c4d62",
   "metadata": {},
   "source": [
    "Summary : We configured a Named Entity Recognition pipeline using a pretrained BERT model to automatically extract regulatory-relevant terms from legal texts. Our script reliably pulls key entities such as organizations, dates, and emission thresholds ,with additional logic to extract custom metrics like \"tCO2e limits.\" This pipeline enables scalable and traceable compliance rule parsing across documents, and it can be fine-tuned further to identify domain-specific constraints.\n",
    "\n"
   ]
  },
  {
   "cell_type": "markdown",
   "id": "92810d8c",
   "metadata": {},
   "source": []
  }
 ],
 "metadata": {
  "kernelspec": {
   "display_name": "base",
   "language": "python",
   "name": "python3"
  },
  "language_info": {
   "codemirror_mode": {
    "name": "ipython",
    "version": 3
   },
   "file_extension": ".py",
   "mimetype": "text/x-python",
   "name": "python",
   "nbconvert_exporter": "python",
   "pygments_lexer": "ipython3",
   "version": "3.11.5"
  }
 },
 "nbformat": 4,
 "nbformat_minor": 5
}
