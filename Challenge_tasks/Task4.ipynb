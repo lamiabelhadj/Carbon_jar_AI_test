{
 "cells": [
  {
   "cell_type": "code",
   "execution_count": null,
   "id": "2d2a4a9a",
   "metadata": {},
   "outputs": [],
   "source": [
    "import random\n",
    "import numpy as np\n",
    "\n",
    "#Data Ingestor\n",
    "class DataIngestor:\n",
    "    def __init__(self, input_data):\n",
    "        self.raw_data = input_data\n",
    "\n",
    "    def get_data(self):\n",
    "        return self.raw_data\n",
    "\n",
    "# Emission Factor Mapper\n",
    "class EmissionFactorMapper:\n",
    "    def __init__(self):\n",
    "        self.factors = {\n",
    "            'steel': {'mean': 2.1, 'std': 0.1},\n",
    "            'transport': {'mean': 0.15, 'std': 0.02}\n",
    "        }\n",
    "\n",
    "    def get_factor(self, material):\n",
    "        return self.factors[material]['mean']\n",
    "\n",
    "    def get_uncertain_factor(self, material):\n",
    "        return np.random.normal(\n",
    "            self.factors[material]['mean'],\n",
    "            self.factors[material]['std']\n",
    "        )\n",
    "\n",
    "# Supply Chain Model\n",
    "class SupplyChainModel:\n",
    "    def __init__(self, data):\n",
    "        self.steel_kg = data.get('steel_kg', 0)\n",
    "        self.transport_km = data.get('transport_km', 0)\n",
    "\n",
    "    def get_activities(self):\n",
    "        return {\n",
    "            'steel': self.steel_kg,\n",
    "            'transport': self.transport_km\n",
    "        }\n",
    "\n",
    "# Impact Calculator \n",
    "class ImpactCalculator:\n",
    "    def __init__(self, factor_mapper):\n",
    "        self.mapper = factor_mapper\n",
    "\n",
    "    def calculate_total(self, activities):\n",
    "        total = 0.0\n",
    "        for activity, quantity in activities.items():\n",
    "            factor = self.mapper.get_factor(activity)\n",
    "            total += quantity * factor\n",
    "        return total\n",
    "\n",
    "# Uncertainty Analyzer\n",
    "class UncertaintyAnalyzer:\n",
    "    def __init__(self, supply_model, factor_mapper):\n",
    "        self.supply_model = supply_model\n",
    "        self.factor_mapper = factor_mapper\n",
    "\n",
    "    def monte_carlo(self, n_simulations=1000):\n",
    "        results = []\n",
    "        activities = self.supply_model.get_activities()\n",
    "        for _ in range(n_simulations):\n",
    "            total = 0.0\n",
    "            for activity, quantity in activities.items():\n",
    "                uncertain_factor = self.factor_mapper.get_uncertain_factor(activity)\n",
    "                total += quantity * uncertain_factor\n",
    "            results.append(total)\n",
    "        return np.mean(results), np.std(results), results\n"
   ]
  },
  {
   "cell_type": "code",
   "execution_count": 2,
   "id": "46b7725d",
   "metadata": {},
   "outputs": [
    {
     "name": "stdout",
     "output_type": "stream",
     "text": [
      "Point Estimate Emissions: 2175.00 tCO2e\n",
      "Monte Carlo Mean: 2170.73 tCO2e ± 101.07\n"
     ]
    }
   ],
   "source": [
    "# Simulate data input\n",
    "data = {'steel_kg': 1000, 'transport_km': 500}\n",
    "\n",
    "# Workflow\n",
    "ingestor = DataIngestor(data)\n",
    "factor_mapper = EmissionFactorMapper()\n",
    "supply_chain = SupplyChainModel(ingestor.get_data())\n",
    "calculator = ImpactCalculator(factor_mapper)\n",
    "\n",
    "activities = supply_chain.get_activities()\n",
    "total_emissions = calculator.calculate_total(activities)\n",
    "print(f\"Point Estimate Emissions: {total_emissions:.2f} tCO2e\")\n",
    "\n",
    "# Run Monte Carlo uncertainty analysis\n",
    "analyzer = UncertaintyAnalyzer(supply_chain, factor_mapper)\n",
    "mean_emissions, std_emissions, samples = analyzer.monte_carlo(n_simulations=1000)\n",
    "print(f\"Monte Carlo Mean: {mean_emissions:.2f} tCO2e ± {std_emissions:.2f}\")\n"
   ]
  },
  {
   "cell_type": "markdown",
   "id": "658911e5",
   "metadata": {},
   "source": [
    "We refactored a monolithic LCA script into modular components — each handling a specific task: data ingestion, emission factor mapping, activity modeling, calculation, and uncertainty analysis. Using Monte Carlo simulations, we estimated not just point emissions, but the uncertainty range. In real scenarios, AI can play a huge role: NLP for reading technical reports, GNNs for supply chain modeling, and probabilistic methods for deeper uncertainty understanding.\n",
    "\n"
   ]
  },
  {
   "cell_type": "markdown",
   "id": "fc37fda4",
   "metadata": {},
   "source": []
  }
 ],
 "metadata": {
  "kernelspec": {
   "display_name": "base",
   "language": "python",
   "name": "python3"
  },
  "language_info": {
   "codemirror_mode": {
    "name": "ipython",
    "version": 3
   },
   "file_extension": ".py",
   "mimetype": "text/x-python",
   "name": "python",
   "nbconvert_exporter": "python",
   "pygments_lexer": "ipython3",
   "version": "3.11.5"
  }
 },
 "nbformat": 4,
 "nbformat_minor": 5
}
