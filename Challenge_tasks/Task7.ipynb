{
 "cells": [
  {
   "cell_type": "markdown",
   "id": "f0fa30da",
   "metadata": {},
   "source": [
    "**7. Embedding Domain Knowledge into AI**"
   ]
  },
  {
   "cell_type": "markdown",
   "id": "f1316290",
   "metadata": {},
   "source": [
    "Step 1: Implement Constraint-Enforcing Post-Processing"
   ]
  },
  {
   "cell_type": "code",
   "execution_count": 1,
   "id": "05067cc1",
   "metadata": {},
   "outputs": [],
   "source": [
    "import random\n",
    "\n",
    "REGULATORY_CAP = 500.0  # Max allowed emissions, per regulation\n",
    "\n",
    "def predict_emissions_ml(input_data):\n",
    "    # Simulated ML prediction — in real use, this would be model.predict(input_data)\n",
    "    return random.uniform(450, 550)\n",
    "\n",
    "def apply_domain_knowledge(prediction, cap=REGULATORY_CAP, mode=\"flag\"):\n",
    "    \"\"\"\n",
    "    mode=\"flag\": Return original prediction but flag if it breaches the cap.\n",
    "    mode=\"cap\":  Clamp output to the regulatory limit.\n",
    "    \"\"\"\n",
    "    result = {\"original_prediction\": prediction}\n",
    "\n",
    "    if prediction > cap:\n",
    "        if mode == \"cap\":\n",
    "            result[\"final_value\"] = cap\n",
    "            result[\"breach_flag\"] = True\n",
    "            result[\"note\"] = \"Prediction capped to comply with regulatory limit.\"\n",
    "        elif mode == \"flag\":\n",
    "            result[\"final_value\"] = prediction\n",
    "            result[\"breach_flag\"] = True\n",
    "            result[\"note\"] = \"Regulatory breach flagged — exceeds cap.\"\n",
    "    else:\n",
    "        result[\"final_value\"] = prediction\n",
    "        result[\"breach_flag\"] = False\n",
    "        result[\"note\"] = \"Compliant\"\n",
    "\n",
    "    return result\n"
   ]
  },
  {
   "cell_type": "markdown",
   "id": "c032134d",
   "metadata": {},
   "source": [
    "Example usage"
   ]
  },
  {
   "cell_type": "code",
   "execution_count": 2,
   "id": "809fbbd6",
   "metadata": {},
   "outputs": [
    {
     "name": "stdout",
     "output_type": "stream",
     "text": [
      "{'original_prediction': 481.23884417520304, 'final_value': 481.23884417520304, 'breach_flag': False, 'note': 'Compliant'}\n"
     ]
    }
   ],
   "source": [
    "# Simulate\n",
    "pred = predict_emissions_ml(None)\n",
    "result = apply_domain_knowledge(pred, mode=\"flag\")\n",
    "print(result)\n"
   ]
  },
  {
   "cell_type": "markdown",
   "id": "1de3e7c5",
   "metadata": {},
   "source": [
    "Step 2:Other Ways to Embed Domain Knowledge"
   ]
  },
  {
   "cell_type": "markdown",
   "id": "749f80f9",
   "metadata": {},
   "source": [
    "| **Technique**                       | **Example**                                                             | **Pros**                                                    | **Cons**                                                        |\n",
    "| ----------------------------------- | ----------------------------------------------------------------------- | ----------------------------------------------------------- | --------------------------------------------------------------- |\n",
    "| **Post-processing (as done above)** | Cap or flag emissions after prediction.                                 | Simple, non-intrusive, model-agnostic                       | Model may learn unrealistic outputs if not penalized internally |\n",
    "| **Feature engineering**             | Add \"regulatory buffer\" or \"distance to cap\" as a feature.              | Encourages model to learn compliance behavior               | Doesn’t guarantee adherence — only influences learning          |\n",
    "| **Hybrid modeling (rule + ML)**     | Combine deterministic logic with ML (e.g., override if emission > cap). | Guarantees adherence while allowing flexibility             | Requires careful integration and may reduce ML flexibility      |\n",
    "| **Custom loss functions**           | Penalize model during training for outputs > cap.                       | Embeds compliance into model behavior                       | Harder to design, requires access to training pipeline          |\n",
    "| **Constraint learning (soft/hard)** | Use methods like Lagrangian relaxation or constrained optimization.     | Mathematically principled, suitable for complex constraints | Advanced — may not be supported by off-the-shelf libraries      |\n"
   ]
  },
  {
   "cell_type": "markdown",
   "id": "ddc4c914",
   "metadata": {},
   "source": [
    "Summary : To ensure AI models respect environmental regulations, we applied a post-processing constraint that either flags or caps emission predictions exceeding a regulatory threshold. This ensures that even if the model outputs unrealistic values, the system can enforce compliance. This approach is simple, explainable, and easy to audit — especially when paired with logs of original predictions."
   ]
  },
  {
   "cell_type": "markdown",
   "id": "c2495c11",
   "metadata": {},
   "source": []
  }
 ],
 "metadata": {
  "kernelspec": {
   "display_name": "base",
   "language": "python",
   "name": "python3"
  },
  "language_info": {
   "codemirror_mode": {
    "name": "ipython",
    "version": 3
   },
   "file_extension": ".py",
   "mimetype": "text/x-python",
   "name": "python",
   "nbconvert_exporter": "python",
   "pygments_lexer": "ipython3",
   "version": "3.11.5"
  }
 },
 "nbformat": 4,
 "nbformat_minor": 5
}
