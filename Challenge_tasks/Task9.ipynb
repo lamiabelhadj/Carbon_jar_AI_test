{
 "cells": [
  {
   "cell_type": "markdown",
   "id": "d488f5c7",
   "metadata": {},
   "source": [
    "**9. AI-Driven Generation of Compliance Reports**"
   ]
  },
  {
   "cell_type": "markdown",
   "id": "88b82b95",
   "metadata": {},
   "source": [
    " Step 1: Enhanced HTML Template (Jinja2 with Plot, Stats & Anomalies)"
   ]
  },
  {
   "cell_type": "code",
   "execution_count": null,
   "id": "092cf982",
   "metadata": {},
   "outputs": [],
   "source": [
    "from jinja2 import Environment, FileSystemLoader\n",
    "import base64\n",
    "from io import BytesIO\n",
    "import matplotlib.pyplot as plt\n",
    "import os\n",
    "\n",
    "template_html = \"\"\"\n",
    "<!DOCTYPE html>\n",
    "<html>\n",
    "<head>\n",
    "    <title>Compliance Report</title>\n",
    "    <style>\n",
    "        body { font-family: Arial, sans-serif; margin: 40px; }\n",
    "        h1 { color: #003366; }\n",
    "        table { border-collapse: collapse; width: 80%; margin-bottom: 20px; }\n",
    "        th, td { border: 1px solid #ccc; padding: 8px; text-align: left; }\n",
    "        th { background-color: #f2f2f2; }\n",
    "        .highlight { color: red; font-weight: bold; }\n",
    "    </style>\n",
    "</head>\n",
    "<body>\n",
    "    <h1>📄 Emissions Compliance Report — {{ month }}</h1>\n",
    "\n",
    "    <h2>Summary Statistics</h2>\n",
    "    <ul>\n",
    "        <li><strong>Total Emissions:</strong> {{ total_emissions }} tCO2e</li>\n",
    "        <li><strong>Number of Anomalies:</strong> {{ anomalies | length }}</li>\n",
    "    </ul>\n",
    "\n",
    "    <h2>Detected Anomalies</h2>\n",
    "    {% if anomalies %}\n",
    "    <table>\n",
    "        <tr>\n",
    "            <th>ID</th><th>Explanation</th><th>Flagged Limit</th>\n",
    "        </tr>\n",
    "        {% for anomaly in anomalies %}\n",
    "        <tr>\n",
    "            <td>{{ anomaly.id }}</td>\n",
    "            <td>{{ anomaly.reason }}</td>\n",
    "            <td class=\"highlight\">{{ anomaly.value }} tCO2e</td>\n",
    "        </tr>\n",
    "        {% endfor %}\n",
    "    </table>\n",
    "    {% else %}\n",
    "    <p>No anomalies detected this month.</p>\n",
    "    {% endif %}\n",
    "\n",
    "    <h2>Regulatory References</h2>\n",
    "    <ul>\n",
    "        {% for ref in regulations %}\n",
    "        <li>{{ ref }}</li>\n",
    "        {% endfor %}\n",
    "    </ul>\n",
    "\n",
    "    <h2>Emissions Overview</h2>\n",
    "    <img src=\"data:image/png;base64,{{ plot_b64 }}\" alt=\"Emissions Plot\"/>\n",
    "\n",
    "    <p><em>Generated automatically by the AI-powered monitoring system.</em></p>\n",
    "</body>\n",
    "</html>\n",
    "\"\"\"\n"
   ]
  },
  {
   "cell_type": "markdown",
   "id": "8961cf32",
   "metadata": {},
   "source": [
    "Step 2: Report Generator Function"
   ]
  },
  {
   "cell_type": "code",
   "execution_count": 2,
   "id": "bc50f82d",
   "metadata": {},
   "outputs": [],
   "source": [
    "def generate_report(data, output_file=\"report.html\"):\n",
    "    fig, ax = plt.subplots()\n",
    "    sources = list(data['emissions_by_source'].keys())\n",
    "    values = list(data['emissions_by_source'].values())\n",
    "    ax.bar(sources, values)\n",
    "    ax.set_title(\"Emissions by Source\")\n",
    "    ax.set_ylabel(\"tCO2e\")\n",
    "    plt.tight_layout()\n",
    "\n",
    "\n",
    "    buf = BytesIO()\n",
    "    fig.savefig(buf, format='png')\n",
    "    buf.seek(0)\n",
    "    img_b64 = base64.b64encode(buf.read()).decode('utf-8')\n",
    "    plt.close(fig)\n",
    "\n",
    "    env = Environment(loader=FileSystemLoader('.'))\n",
    "    template = env.from_string(template_html)\n",
    "\n",
    "    html = template.render(\n",
    "        month=data['month'],\n",
    "        total_emissions=data['total_emissions'],\n",
    "        anomalies=data['anomalies'],\n",
    "        regulations=data['regulations'],\n",
    "        plot_b64=img_b64\n",
    "    )\n",
    "\n",
    "    with open(output_file, \"w\") as f:\n",
    "        f.write(html)\n",
    "    print(f\"Report saved as: {os.path.abspath(output_file)}\")\n"
   ]
  },
  {
   "cell_type": "markdown",
   "id": "5b7df3c9",
   "metadata": {},
   "source": [
    "Step 3: Example Call with Simulated Data"
   ]
  },
  {
   "cell_type": "code",
   "execution_count": 3,
   "id": "d3f02f62",
   "metadata": {},
   "outputs": [
    {
     "name": "stdout",
     "output_type": "stream",
     "text": [
      "Report saved as: c:\\Users\\lamia\\Desktop\\Carbon_jar_Data_test\\Challenge_tasks\\report.html\n"
     ]
    }
   ],
   "source": [
    "generate_report({\n",
    "    \"month\": \"January 2025\",\n",
    "    \"total_emissions\": 12345,\n",
    "    \"emissions_by_source\": {\n",
    "        \"Steel\": 5400,\n",
    "        \"Transport\": 2800,\n",
    "        \"Energy\": 3145\n",
    "    },\n",
    "    \"anomalies\": [\n",
    "        {\"id\": 1, \"reason\": \"Exceeded transport limit\", \"value\": 2800},\n",
    "        {\"id\": 2, \"reason\": \"Energy spike during shutdown\", \"value\": 3145}\n",
    "    ],\n",
    "    \"regulations\": [\n",
    "        \"EU Regulation 2019/631 - CO2 caps for new vehicles\",\n",
    "        \"ISO 14064-1:2018 - GHG inventory reporting standard\"\n",
    "    ]\n",
    "})\n"
   ]
  },
  {
   "cell_type": "markdown",
   "id": "7490465e",
   "metadata": {},
   "source": [
    "Summary : This Jinja2-based report generator creates a fully automated HTML report that includes summary stats, a list of flagged anomalies, references to regulatory documents, and a visual emissions breakdown. It uses base64-encoded matplotlib plots for seamless embedding and clean styling for professional presentation. The report design could be further enhanced to be more visullay pleasing , I did the bare minimum for test purposes.\n",
    "\n"
   ]
  },
  {
   "cell_type": "markdown",
   "id": "ed163dae",
   "metadata": {},
   "source": []
  }
 ],
 "metadata": {
  "kernelspec": {
   "display_name": "base",
   "language": "python",
   "name": "python3"
  },
  "language_info": {
   "codemirror_mode": {
    "name": "ipython",
    "version": 3
   },
   "file_extension": ".py",
   "mimetype": "text/x-python",
   "name": "python",
   "nbconvert_exporter": "python",
   "pygments_lexer": "ipython3",
   "version": "3.11.5"
  }
 },
 "nbformat": 4,
 "nbformat_minor": 5
}
