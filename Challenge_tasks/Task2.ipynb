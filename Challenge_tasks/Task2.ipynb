{
 "cells": [
  {
   "cell_type": "markdown",
   "id": "2f6ae629",
   "metadata": {},
   "source": [
    "2. AI-Based Imputation of Missing Emissions Data"
   ]
  },
  {
   "cell_type": "code",
   "execution_count": null,
   "id": "7743bdf3",
   "metadata": {},
   "outputs": [
    {
     "name": "stderr",
     "output_type": "stream",
     "text": [
      "c:\\Users\\lamia\\anaconda3\\Lib\\site-packages\\pandas\\core\\arrays\\masked.py:60: UserWarning: Pandas requires version '1.3.6' or newer of 'bottleneck' (version '1.3.5' currently installed).\n",
      "  from pandas.core import (\n"
     ]
    },
    {
     "name": "stdout",
     "output_type": "stream",
     "text": [
      "Iterative Imputed:\n",
      " [[10.          2.         30.        ]\n",
      " [ 4.          5.00001993 60.        ]\n",
      " [ 7.88049082  8.         90.        ]\n",
      " [10.          5.         60.00004274]]\n"
     ]
    }
   ],
   "source": [
    "import numpy as np\n",
    "from sklearn.experimental import enable_iterative_imputer  \n",
    "from sklearn.impute import IterativeImputer\n",
    "from sklearn.linear_model import BayesianRidge\n",
    "\n",
    "# Sample data with missing values\n",
    "X = np.array([\n",
    "    [10., 2., 30.],\n",
    "    [4.,  np.nan, 60.],\n",
    "    [np.nan, 8., 90.],\n",
    "    [10., 5., np.nan]\n",
    "])\n",
    "\n",
    "# Apply Iterative Imputer\n",
    "imputer = IterativeImputer(estimator=BayesianRidge(), max_iter=10, random_state=42)\n",
    "X_imputed = imputer.fit_transform(X)\n",
    "\n",
    "print(\"Iterative Imputed:\\n\", X_imputed)\n"
   ]
  },
  {
   "cell_type": "markdown",
   "id": "40bcbfa7",
   "metadata": {},
   "source": [
    "**Generator (G)**"
   ]
  },
  {
   "cell_type": "markdown",
   "id": "c4b87617",
   "metadata": {},
   "source": []
  },
  {
   "cell_type": "code",
   "execution_count": 3,
   "id": "b6b5fc1d",
   "metadata": {},
   "outputs": [],
   "source": [
    "import torch.nn as nn\n",
    "\n",
    "class TabularGenerator(nn.Module):\n",
    "    def __init__(self, noise_dim=32, output_dim=10):\n",
    "        super().__init__()\n",
    "        self.net = nn.Sequential(\n",
    "            nn.Linear(noise_dim, 64),\n",
    "            nn.ReLU(),\n",
    "            nn.BatchNorm1d(64),\n",
    "            nn.Linear(64, 128),\n",
    "            nn.ReLU(),\n",
    "            nn.BatchNorm1d(128),\n",
    "            nn.Linear(128, output_dim)  # Output matches number of features in emissions dataset\n",
    "        )\n",
    "\n",
    "    def forward(self, z):\n",
    "        return self.net(z)\n"
   ]
  },
  {
   "cell_type": "markdown",
   "id": "d5604ebf",
   "metadata": {},
   "source": [
    "**Discriminator (D)**"
   ]
  },
  {
   "cell_type": "code",
   "execution_count": 4,
   "id": "61b020f9",
   "metadata": {},
   "outputs": [],
   "source": [
    "class TabularDiscriminator(nn.Module):\n",
    "    def __init__(self, input_dim=10):\n",
    "        super().__init__()\n",
    "        self.net = nn.Sequential(\n",
    "            nn.Linear(input_dim, 128),\n",
    "            nn.LeakyReLU(0.2),\n",
    "            nn.Dropout(0.3),\n",
    "            nn.Linear(128, 64),\n",
    "            nn.LeakyReLU(0.2),\n",
    "            nn.Dropout(0.3),\n",
    "            nn.Linear(64, 1),\n",
    "            nn.Sigmoid()  # Outputs probability that the sample is real\n",
    "        )\n",
    "\n",
    "    def forward(self, x):\n",
    "        return self.net(x)\n"
   ]
  },
  {
   "cell_type": "markdown",
   "id": "60319c17",
   "metadata": {},
   "source": [
    "**3. Validation of Imputed Data**\n",
    "\n",
    "To evaluate whether imputation worked well:\n",
    "\n",
    "A. Statistical Similarity\n",
    "Plot distributions (histograms or KDE) of original vs. imputed values.\n",
    "\n",
    "B. Reconstruction Error \n",
    "Use RMSE or MAE between true and imputed values.\n",
    "\n",
    "C. Impact on Downstream Tasks\n",
    "Train a predictive model (for example RandomForest) on:\n",
    "\n",
    "  -Complete data\n",
    "\n",
    "  -Data with missing values imputed\n",
    "\n",
    "Compare model performance (accuracy, F1-score, etc.)\n",
    "\n",
    "If performance doesn't degrade much, imputation quality is likely acceptable."
   ]
  },
  {
   "cell_type": "markdown",
   "id": "a2d00fd8",
   "metadata": {},
   "source": []
  }
 ],
 "metadata": {
  "kernelspec": {
   "display_name": "base",
   "language": "python",
   "name": "python3"
  },
  "language_info": {
   "codemirror_mode": {
    "name": "ipython",
    "version": 3
   },
   "file_extension": ".py",
   "mimetype": "text/x-python",
   "name": "python",
   "nbconvert_exporter": "python",
   "pygments_lexer": "ipython3",
   "version": "3.11.5"
  }
 },
 "nbformat": 4,
 "nbformat_minor": 5
}
