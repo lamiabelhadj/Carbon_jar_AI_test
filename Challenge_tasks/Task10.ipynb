{
 "cells": [
  {
   "cell_type": "markdown",
   "id": "b7d6173b",
   "metadata": {},
   "source": [
    "**10. MLOps: Production Deployment & Monitoring**"
   ]
  },
  {
   "cell_type": "markdown",
   "id": "e4803ce6",
   "metadata": {},
   "source": [
    " Step 1: Fixed & Enhanced SeldonDeployment YAML\n",
    " "
   ]
  },
  {
   "cell_type": "markdown",
   "id": "1466256b",
   "metadata": {},
   "source": [
    "apiVersion: machinelearning.seldon.io/v1\n",
    "kind: SeldonDeployment\n",
    "metadata:\n",
    "  name: emission-anomaly-detector\n",
    "  labels:\n",
    "    app: emission-anomaly-detector\n",
    "  annotations:\n",
    "    prometheus.io/scrape: \"true\"\n",
    "    prometheus.io/path: \"/metrics\"\n",
    "    prometheus.io/port: \"8080\"\n",
    "spec:\n",
    "  name: detector\n",
    "  predictors:\n",
    "    - name: main-predictor\n",
    "      replicas: 1\n",
    "      graph:\n",
    "        name: anomaly-model\n",
    "        type: MODEL\n",
    "        endpoint:\n",
    "          type: REST\n",
    "      componentSpecs:\n",
    "        - spec:\n",
    "            containers:\n",
    "              - name: anomaly-model\n",
    "                image: my-anomaly-model:0.1\n",
    "                imagePullPolicy: IfNotPresent\n",
    "                ports:\n",
    "                  - containerPort: 8080\n",
    "                    name: http\n",
    "                resources:\n",
    "                  requests:\n",
    "                    cpu: \"100m\"\n",
    "                    memory: \"128Mi\"\n",
    "                  limits:\n",
    "                    cpu: \"500m\"\n",
    "                    memory: \"512Mi\"\n"
   ]
  },
  {
   "cell_type": "markdown",
   "id": "80f64781",
   "metadata": {},
   "source": [
    "Explanation of Fixes: \n",
    "| Fix                         | What Was Done                                              |\n",
    "| --------------------------- | ---------------------------------------------------------- |\n",
    "| **Resource limits**       | Added `cpu`/`memory` under `resources`                     |\n",
    "| **Port definition**       | Declared `containerPort: 8080` for REST access             |\n",
    "| **Prometheus monitoring** | Added scraping annotations in `metadata.annotations`       |\n",
    "| **Model metadata**        | Used `imagePullPolicy` and `name` to standardize container |\n"
   ]
  },
  {
   "cell_type": "markdown",
   "id": "325cffff",
   "metadata": {},
   "source": [
    "Step 2: Designing Data Drift Detection"
   ]
  },
  {
   "cell_type": "markdown",
   "id": "20136348",
   "metadata": {},
   "source": [
    "**Goal:**\n",
    "\n",
    "Detect when the incoming data in production differs significantly from the training data — helping flag model degradation over time."
   ]
  },
  {
   "cell_type": "markdown",
   "id": "365e400e",
   "metadata": {},
   "source": [
    " Pseudo-code Example (KS Test for Drift)"
   ]
  },
  {
   "cell_type": "code",
   "execution_count": 2,
   "id": "01e6c2d7",
   "metadata": {},
   "outputs": [],
   "source": [
    "from scipy.stats import ks_2samp\n",
    "\n",
    "def detect_drift(train_data, live_data, threshold=0.1):\n",
    "    drift_results = {}\n",
    "    for column in train_data.columns:\n",
    "        stat, p_value = ks_2samp(train_data[column], live_data[column])\n",
    "        drift_results[column] = {\n",
    "            \"p_value\": p_value,\n",
    "            \"drift_detected\": p_value < threshold\n",
    "        }\n",
    "    return drift_results\n"
   ]
  },
  {
   "cell_type": "code",
   "execution_count": null,
   "id": "0285db39",
   "metadata": {},
   "outputs": [],
   "source": []
  }
 ],
 "metadata": {
  "kernelspec": {
   "display_name": "base",
   "language": "python",
   "name": "python3"
  },
  "language_info": {
   "codemirror_mode": {
    "name": "ipython",
    "version": 3
   },
   "file_extension": ".py",
   "mimetype": "text/x-python",
   "name": "python",
   "nbconvert_exporter": "python",
   "pygments_lexer": "ipython3",
   "version": "3.11.5"
  }
 },
 "nbformat": 4,
 "nbformat_minor": 5
}
